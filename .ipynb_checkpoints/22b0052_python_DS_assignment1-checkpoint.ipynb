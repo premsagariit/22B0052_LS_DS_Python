{
 "cells": [
  {
   "cell_type": "markdown",
   "metadata": {
    "id": "k2HWdn8BuEly"
   },
   "source": [
    "# Learner Space Assignment - Week 1\n",
    "\n",
    "Prem Sagar Malothu\n",
    "\n",
    "22b0052"
   ]
  },
  {
   "cell_type": "markdown",
   "metadata": {
    "id": "hM2-ZGJID6DB"
   },
   "source": [
    "## Part 1"
   ]
  },
  {
   "cell_type": "code",
   "execution_count": 1,
   "metadata": {
    "id": "Tg77gm62sp7f"
   },
   "outputs": [],
   "source": [
    "import numpy as np\n",
    "import pandas as pd\n",
    "import matplotlib.pyplot as plt\n",
    "import seaborn as sns\n",
    "sns.set_style(\"dark\")"
   ]
  },
  {
   "cell_type": "code",
   "execution_count": 2,
   "metadata": {
    "id": "bTjUB_Fv9vwW"
   },
   "outputs": [],
   "source": [
    "from IPython.display import display\n",
    "display.max_rows = True"
   ]
  },
  {
   "cell_type": "code",
   "execution_count": 3,
   "metadata": {
    "colab": {
     "base_uri": "https://localhost:8080/"
    },
    "id": "ChQ9gXZStQis",
    "outputId": "a2f09383-3b8c-4f88-dda6-bcb5cf8c4e75"
   },
   "outputs": [
    {
     "name": "stdout",
     "output_type": "stream",
     "text": [
      "[[51 92 14 71 60]\n",
      " [20 82 86 74 74]\n",
      " [87 99 23  2 21]\n",
      " [52  1 87 29 37]\n",
      " [ 1 63 59 20 32]]\n"
     ]
    }
   ],
   "source": [
    "# Import the random seed\n",
    "np.random.seed(42)\n",
    "\n",
    "# Create an array with the random integers between 1, 100 of shape 5 x 5\n",
    "array = np.random.randint(100, size=(5,5))\n",
    "print(array)"
   ]
  },
  {
   "cell_type": "markdown",
   "metadata": {
    "id": "qRehtMJS9ZgY"
   },
   "source": [
    "### Task a: Extract and print the middle element of the array using NumPy indexing"
   ]
  },
  {
   "cell_type": "code",
   "execution_count": 4,
   "metadata": {
    "colab": {
     "base_uri": "https://localhost:8080/"
    },
    "id": "5iDNBluZuR44",
    "outputId": "23404324-07ba-45ac-89b6-7e41f060926a"
   },
   "outputs": [
    {
     "data": {
      "text/plain": [
       "23"
      ]
     },
     "execution_count": 4,
     "metadata": {},
     "output_type": "execute_result"
    }
   ],
   "source": [
    "len_rows = array.shape[0]\n",
    "len_cols = array.shape[1]\n",
    "middle_row = len_rows // 2\n",
    "middle_col = len_cols //2\n",
    "\n",
    "array[middle_row, middle_col]"
   ]
  },
  {
   "cell_type": "markdown",
   "metadata": {
    "id": "w4NlkN-C9VMM"
   },
   "source": [
    "### Task b: Calculate and print the mean of each row of the array"
   ]
  },
  {
   "cell_type": "code",
   "execution_count": 5,
   "metadata": {
    "colab": {
     "base_uri": "https://localhost:8080/"
    },
    "id": "C6k0md3Ovbc4",
    "outputId": "6d0f4076-60e8-476d-8618-9d47b7e449b4"
   },
   "outputs": [
    {
     "name": "stdout",
     "output_type": "stream",
     "text": [
      "[42.2 67.4 53.8 39.2 44.8]\n"
     ]
    }
   ],
   "source": [
    "mean_row = array.mean(axis=0)\n",
    "print(mean_row)"
   ]
  },
  {
   "cell_type": "markdown",
   "metadata": {
    "id": "sPwSIVztwkXv"
   },
   "source": [
    "### Task c: Create a new array that contains only the elements from the original array that are greater than the overall mean of the array.\n"
   ]
  },
  {
   "cell_type": "code",
   "execution_count": 6,
   "metadata": {
    "colab": {
     "base_uri": "https://localhost:8080/"
    },
    "id": "ZjmdA1GnwLfo",
    "outputId": "1cf16b28-105c-4fd1-f8fe-8200496b970e"
   },
   "outputs": [
    {
     "name": "stdout",
     "output_type": "stream",
     "text": [
      "[51 92 71 60 82 86 74 74 87 99 52 87 63 59]\n"
     ]
    }
   ],
   "source": [
    "# Task c: Create a new array that contains only the elements from the original array that are greater than the overall mean of the array.\n",
    "\n",
    "# Compute the overall mean of the array\n",
    "mean_overall = array.mean()\n",
    "\n",
    "new_array = array[array>mean_overall]\n",
    "print(new_array)"
   ]
  },
  {
   "cell_type": "markdown",
   "metadata": {
    "id": "P4vGIdZAxNRZ"
   },
   "source": [
    "### Task d: Write a Python function numpy_spiral_order(matrix) that takes a NumPy matrix and returns a list containing the elements visited in a spiral order"
   ]
  },
  {
   "cell_type": "code",
   "execution_count": 7,
   "metadata": {
    "id": "NuJqV2cw9fwO"
   },
   "outputs": [],
   "source": [
    "# Task d: Write a Python function numpy_spiral_order(matrix) that takes a NumPy matrix and returns a list containing the elements visited in a spiral order\n",
    "def numpy_spiral_order(matrix):\n",
    "  len_rows = matrix.shape[0]\n",
    "  len_cols = matrix.shape[1]\n",
    "  spiral_order = []\n",
    "  top = 0\n",
    "  bottom = len_rows - 1\n",
    "  left = 0\n",
    "  right = len_cols - 1\n",
    "  direction = 0\n",
    "  while top <= bottom and left <= right:\n",
    "    if direction == 0:\n",
    "      for i in range(left, right + 1):\n",
    "        spiral_order.append(matrix[top][i])\n",
    "      top += 1\n",
    "    elif direction == 1:\n",
    "      for i in range(top, bottom + 1):\n",
    "        spiral_order.append(matrix[i][right])\n",
    "      right -= 1\n",
    "    elif direction == 2:\n",
    "      for i in range(right, left - 1, -1):\n",
    "        spiral_order.append(matrix[bottom][i])\n",
    "      bottom -= 1\n",
    "    elif direction == 3:\n",
    "      for i in range(bottom, top - 1, -1):\n",
    "        spiral_order.append(matrix[i][left])\n",
    "      left += 1\n",
    "    direction = (direction + 1) % 4\n",
    "  return spiral_order\n"
   ]
  },
  {
   "cell_type": "code",
   "execution_count": 8,
   "metadata": {
    "colab": {
     "base_uri": "https://localhost:8080/"
    },
    "id": "ORoG4tJ66Pfs",
    "outputId": "eda75bb1-f599-4bc8-92ba-27979b96b18c"
   },
   "outputs": [
    {
     "name": "stdout",
     "output_type": "stream",
     "text": [
      "[[ 1  2  3  4  5  6]\n",
      " [ 7  8  9 10 11 12]\n",
      " [13 14 15 16 17 18]\n",
      " [19 20 21 22 23 24]]\n",
      "The Spiral order is: [1, 2, 3, 4, 5, 6, 12, 18, 24, 23, 22, 21, 20, 19, 13, 7, 8, 9, 10, 11, 17, 16, 15, 14]\n"
     ]
    }
   ],
   "source": [
    "arr1 = np.array([[1, 2, 3, 4, 5, 6],[7, 8, 9, 10, 11, 12],[13, 14, 15, 16, 17, 18], [19, 20, 21, 22, 23, 24]])\n",
    "result = numpy_spiral_order(arr1)\n",
    "print(arr1)\n",
    "print(\"The Spiral order is:\", result)"
   ]
  },
  {
   "cell_type": "markdown",
   "metadata": {
    "id": "2M-FcSN1D8Ib"
   },
   "source": [
    "## Part 2"
   ]
  },
  {
   "cell_type": "code",
   "execution_count": 9,
   "metadata": {
    "id": "3ygIcRJp9E8N"
   },
   "outputs": [],
   "source": [
    "import numpy as np\n",
    "import pandas as pd\n",
    "import matplotlib.pyplot as plt"
   ]
  },
  {
   "cell_type": "code",
   "execution_count": 10,
   "metadata": {
    "colab": {
     "base_uri": "https://localhost:8080/",
     "height": 206
    },
    "id": "sm71TOPp-tGq",
    "outputId": "579183b2-7338-4084-fa5e-b0197d51767a"
   },
   "outputs": [
    {
     "data": {
      "text/html": [
       "<div>\n",
       "<style scoped>\n",
       "    .dataframe tbody tr th:only-of-type {\n",
       "        vertical-align: middle;\n",
       "    }\n",
       "\n",
       "    .dataframe tbody tr th {\n",
       "        vertical-align: top;\n",
       "    }\n",
       "\n",
       "    .dataframe thead th {\n",
       "        text-align: right;\n",
       "    }\n",
       "</style>\n",
       "<table border=\"1\" class=\"dataframe\">\n",
       "  <thead>\n",
       "    <tr style=\"text-align: right;\">\n",
       "      <th></th>\n",
       "      <th>Name</th>\n",
       "      <th>Platform</th>\n",
       "      <th>Year</th>\n",
       "      <th>Genre</th>\n",
       "      <th>Publisher</th>\n",
       "      <th>NA_Sales</th>\n",
       "      <th>EU_Sales</th>\n",
       "      <th>JP_Sales</th>\n",
       "      <th>Other_Sales</th>\n",
       "    </tr>\n",
       "  </thead>\n",
       "  <tbody>\n",
       "    <tr>\n",
       "      <th>0</th>\n",
       "      <td>Asteroids</td>\n",
       "      <td>2600</td>\n",
       "      <td>1980.0</td>\n",
       "      <td>Shooter</td>\n",
       "      <td>Atari</td>\n",
       "      <td>4.00</td>\n",
       "      <td>0.26</td>\n",
       "      <td>0.0</td>\n",
       "      <td>0.05</td>\n",
       "    </tr>\n",
       "    <tr>\n",
       "      <th>1</th>\n",
       "      <td>Missile Command</td>\n",
       "      <td>2600</td>\n",
       "      <td>1980.0</td>\n",
       "      <td>Shooter</td>\n",
       "      <td>Atari</td>\n",
       "      <td>2.56</td>\n",
       "      <td>0.17</td>\n",
       "      <td>0.0</td>\n",
       "      <td>0.03</td>\n",
       "    </tr>\n",
       "    <tr>\n",
       "      <th>2</th>\n",
       "      <td>Kaboom!</td>\n",
       "      <td>2600</td>\n",
       "      <td>1980.0</td>\n",
       "      <td>Misc</td>\n",
       "      <td>Activision</td>\n",
       "      <td>1.07</td>\n",
       "      <td>0.07</td>\n",
       "      <td>0.0</td>\n",
       "      <td>0.01</td>\n",
       "    </tr>\n",
       "    <tr>\n",
       "      <th>3</th>\n",
       "      <td>Defender</td>\n",
       "      <td>2600</td>\n",
       "      <td>1980.0</td>\n",
       "      <td>Misc</td>\n",
       "      <td>Atari</td>\n",
       "      <td>0.99</td>\n",
       "      <td>0.05</td>\n",
       "      <td>0.0</td>\n",
       "      <td>0.01</td>\n",
       "    </tr>\n",
       "    <tr>\n",
       "      <th>4</th>\n",
       "      <td>Boxing</td>\n",
       "      <td>2600</td>\n",
       "      <td>1980.0</td>\n",
       "      <td>Fighting</td>\n",
       "      <td>Activision</td>\n",
       "      <td>0.72</td>\n",
       "      <td>0.04</td>\n",
       "      <td>0.0</td>\n",
       "      <td>0.01</td>\n",
       "    </tr>\n",
       "  </tbody>\n",
       "</table>\n",
       "</div>"
      ],
      "text/plain": [
       "              Name Platform    Year     Genre   Publisher  NA_Sales  EU_Sales  \\\n",
       "0        Asteroids     2600  1980.0   Shooter       Atari      4.00      0.26   \n",
       "1  Missile Command     2600  1980.0   Shooter       Atari      2.56      0.17   \n",
       "2          Kaboom!     2600  1980.0      Misc  Activision      1.07      0.07   \n",
       "3         Defender     2600  1980.0      Misc       Atari      0.99      0.05   \n",
       "4           Boxing     2600  1980.0  Fighting  Activision      0.72      0.04   \n",
       "\n",
       "   JP_Sales  Other_Sales  \n",
       "0       0.0         0.05  \n",
       "1       0.0         0.03  \n",
       "2       0.0         0.01  \n",
       "3       0.0         0.01  \n",
       "4       0.0         0.01  "
      ]
     },
     "execution_count": 10,
     "metadata": {},
     "output_type": "execute_result"
    }
   ],
   "source": [
    "df = pd.read_csv(\"videogamesales.csv\")\n",
    "df[\"Name\"] = df[\"Name\"]\n",
    "df.head()"
   ]
  },
  {
   "cell_type": "code",
   "execution_count": 11,
   "metadata": {
    "colab": {
     "base_uri": "https://localhost:8080/"
    },
    "id": "GWgIpgSzEOU1",
    "outputId": "b21994b6-f23c-4ad5-9cc5-044b84793b3e"
   },
   "outputs": [
    {
     "name": "stdout",
     "output_type": "stream",
     "text": [
      "<class 'pandas.core.frame.DataFrame'>\n",
      "RangeIndex: 16583 entries, 0 to 16582\n",
      "Data columns (total 9 columns):\n",
      " #   Column       Non-Null Count  Dtype  \n",
      "---  ------       --------------  -----  \n",
      " 0   Name         16583 non-null  object \n",
      " 1   Platform     16583 non-null  object \n",
      " 2   Year         16312 non-null  float64\n",
      " 3   Genre        16583 non-null  object \n",
      " 4   Publisher    16525 non-null  object \n",
      " 5   NA_Sales     16583 non-null  float64\n",
      " 6   EU_Sales     16583 non-null  float64\n",
      " 7   JP_Sales     16583 non-null  float64\n",
      " 8   Other_Sales  16583 non-null  float64\n",
      "dtypes: float64(5), object(4)\n",
      "memory usage: 1.1+ MB\n"
     ]
    }
   ],
   "source": [
    "df.info()"
   ]
  },
  {
   "cell_type": "markdown",
   "metadata": {
    "id": "0avvxWZP9nW5"
   },
   "source": [
    "### Task a: Add a column of `global_sales` showing the total sales of all the different regions to the data frame and sort (highest first) and print the DataFrame according to it."
   ]
  },
  {
   "cell_type": "code",
   "execution_count": 12,
   "metadata": {
    "id": "kMmfgCnpESal"
   },
   "outputs": [],
   "source": [
    "df[\"global_sales\"] = df[\"NA_Sales\"] + df[\"EU_Sales\"] + df[\"JP_Sales\"] + df[\"Other_Sales\"]\n",
    "df.sort_values(by=\"global_sales\", ascending=False, inplace=True)"
   ]
  },
  {
   "cell_type": "code",
   "execution_count": 13,
   "metadata": {
    "colab": {
     "base_uri": "https://localhost:8080/",
     "height": 424
    },
    "id": "VHOfUf9UMCs7",
    "outputId": "f5824369-e00d-4266-cdf0-83a283461b1e"
   },
   "outputs": [
    {
     "data": {
      "text/html": [
       "<div>\n",
       "<style scoped>\n",
       "    .dataframe tbody tr th:only-of-type {\n",
       "        vertical-align: middle;\n",
       "    }\n",
       "\n",
       "    .dataframe tbody tr th {\n",
       "        vertical-align: top;\n",
       "    }\n",
       "\n",
       "    .dataframe thead th {\n",
       "        text-align: right;\n",
       "    }\n",
       "</style>\n",
       "<table border=\"1\" class=\"dataframe\">\n",
       "  <thead>\n",
       "    <tr style=\"text-align: right;\">\n",
       "      <th></th>\n",
       "      <th>Name</th>\n",
       "      <th>Platform</th>\n",
       "      <th>Year</th>\n",
       "      <th>Genre</th>\n",
       "      <th>Publisher</th>\n",
       "      <th>NA_Sales</th>\n",
       "      <th>EU_Sales</th>\n",
       "      <th>JP_Sales</th>\n",
       "      <th>Other_Sales</th>\n",
       "      <th>global_sales</th>\n",
       "    </tr>\n",
       "  </thead>\n",
       "  <tbody>\n",
       "    <tr>\n",
       "      <th>0</th>\n",
       "      <td>Wii Sports</td>\n",
       "      <td>Wii</td>\n",
       "      <td>2006.0</td>\n",
       "      <td>Sports</td>\n",
       "      <td>Nintendo</td>\n",
       "      <td>41.49</td>\n",
       "      <td>29.02</td>\n",
       "      <td>3.77</td>\n",
       "      <td>8.46</td>\n",
       "      <td>82.74</td>\n",
       "    </tr>\n",
       "    <tr>\n",
       "      <th>1</th>\n",
       "      <td>Super Mario Bros.</td>\n",
       "      <td>NES</td>\n",
       "      <td>1985.0</td>\n",
       "      <td>Platform</td>\n",
       "      <td>Nintendo</td>\n",
       "      <td>29.08</td>\n",
       "      <td>3.58</td>\n",
       "      <td>6.81</td>\n",
       "      <td>0.77</td>\n",
       "      <td>40.24</td>\n",
       "    </tr>\n",
       "    <tr>\n",
       "      <th>2</th>\n",
       "      <td>Mario Kart Wii</td>\n",
       "      <td>Wii</td>\n",
       "      <td>2008.0</td>\n",
       "      <td>Racing</td>\n",
       "      <td>Nintendo</td>\n",
       "      <td>15.85</td>\n",
       "      <td>12.88</td>\n",
       "      <td>3.79</td>\n",
       "      <td>3.31</td>\n",
       "      <td>35.83</td>\n",
       "    </tr>\n",
       "    <tr>\n",
       "      <th>3</th>\n",
       "      <td>Wii Sports Resort</td>\n",
       "      <td>Wii</td>\n",
       "      <td>2009.0</td>\n",
       "      <td>Sports</td>\n",
       "      <td>Nintendo</td>\n",
       "      <td>15.75</td>\n",
       "      <td>11.01</td>\n",
       "      <td>3.28</td>\n",
       "      <td>2.96</td>\n",
       "      <td>33.00</td>\n",
       "    </tr>\n",
       "    <tr>\n",
       "      <th>4</th>\n",
       "      <td>Pokemon Red/Pokemon Blue</td>\n",
       "      <td>GB</td>\n",
       "      <td>1996.0</td>\n",
       "      <td>Role-Playing</td>\n",
       "      <td>Nintendo</td>\n",
       "      <td>11.27</td>\n",
       "      <td>8.89</td>\n",
       "      <td>10.22</td>\n",
       "      <td>1.00</td>\n",
       "      <td>31.38</td>\n",
       "    </tr>\n",
       "    <tr>\n",
       "      <th>...</th>\n",
       "      <td>...</td>\n",
       "      <td>...</td>\n",
       "      <td>...</td>\n",
       "      <td>...</td>\n",
       "      <td>...</td>\n",
       "      <td>...</td>\n",
       "      <td>...</td>\n",
       "      <td>...</td>\n",
       "      <td>...</td>\n",
       "      <td>...</td>\n",
       "    </tr>\n",
       "    <tr>\n",
       "      <th>16578</th>\n",
       "      <td>Military History: Commander - Europe at War</td>\n",
       "      <td>DS</td>\n",
       "      <td>2009.0</td>\n",
       "      <td>Strategy</td>\n",
       "      <td>Slitherine Software</td>\n",
       "      <td>0.00</td>\n",
       "      <td>0.01</td>\n",
       "      <td>0.00</td>\n",
       "      <td>0.00</td>\n",
       "      <td>0.01</td>\n",
       "    </tr>\n",
       "    <tr>\n",
       "      <th>16579</th>\n",
       "      <td>Puzzle Quest: Challenge of the Warlords</td>\n",
       "      <td>PSP</td>\n",
       "      <td>2007.0</td>\n",
       "      <td>Puzzle</td>\n",
       "      <td>D3Publisher</td>\n",
       "      <td>0.01</td>\n",
       "      <td>0.00</td>\n",
       "      <td>0.00</td>\n",
       "      <td>0.00</td>\n",
       "      <td>0.01</td>\n",
       "    </tr>\n",
       "    <tr>\n",
       "      <th>16580</th>\n",
       "      <td>Race Driver: Create &amp; Race</td>\n",
       "      <td>DS</td>\n",
       "      <td>2007.0</td>\n",
       "      <td>Racing</td>\n",
       "      <td>Codemasters</td>\n",
       "      <td>0.01</td>\n",
       "      <td>0.00</td>\n",
       "      <td>0.00</td>\n",
       "      <td>0.00</td>\n",
       "      <td>0.01</td>\n",
       "    </tr>\n",
       "    <tr>\n",
       "      <th>16581</th>\n",
       "      <td>Cross Edge Dash</td>\n",
       "      <td>X360</td>\n",
       "      <td>2009.0</td>\n",
       "      <td>Role-Playing</td>\n",
       "      <td>Compile Heart</td>\n",
       "      <td>0.00</td>\n",
       "      <td>0.00</td>\n",
       "      <td>0.01</td>\n",
       "      <td>0.00</td>\n",
       "      <td>0.01</td>\n",
       "    </tr>\n",
       "    <tr>\n",
       "      <th>16582</th>\n",
       "      <td>SCORE International Baja 1000: The Official Game</td>\n",
       "      <td>PS2</td>\n",
       "      <td>2008.0</td>\n",
       "      <td>Racing</td>\n",
       "      <td>Activision</td>\n",
       "      <td>0.00</td>\n",
       "      <td>0.00</td>\n",
       "      <td>0.00</td>\n",
       "      <td>0.00</td>\n",
       "      <td>0.00</td>\n",
       "    </tr>\n",
       "  </tbody>\n",
       "</table>\n",
       "<p>16583 rows × 10 columns</p>\n",
       "</div>"
      ],
      "text/plain": [
       "                                                   Name Platform    Year  \\\n",
       "0                                            Wii Sports      Wii  2006.0   \n",
       "1                                     Super Mario Bros.      NES  1985.0   \n",
       "2                                        Mario Kart Wii      Wii  2008.0   \n",
       "3                                     Wii Sports Resort      Wii  2009.0   \n",
       "4                              Pokemon Red/Pokemon Blue       GB  1996.0   \n",
       "...                                                 ...      ...     ...   \n",
       "16578       Military History: Commander - Europe at War       DS  2009.0   \n",
       "16579           Puzzle Quest: Challenge of the Warlords      PSP  2007.0   \n",
       "16580                        Race Driver: Create & Race       DS  2007.0   \n",
       "16581                                   Cross Edge Dash     X360  2009.0   \n",
       "16582  SCORE International Baja 1000: The Official Game      PS2  2008.0   \n",
       "\n",
       "              Genre            Publisher  NA_Sales  EU_Sales  JP_Sales  \\\n",
       "0            Sports             Nintendo     41.49     29.02      3.77   \n",
       "1          Platform             Nintendo     29.08      3.58      6.81   \n",
       "2            Racing             Nintendo     15.85     12.88      3.79   \n",
       "3            Sports             Nintendo     15.75     11.01      3.28   \n",
       "4      Role-Playing             Nintendo     11.27      8.89     10.22   \n",
       "...             ...                  ...       ...       ...       ...   \n",
       "16578      Strategy  Slitherine Software      0.00      0.01      0.00   \n",
       "16579        Puzzle          D3Publisher      0.01      0.00      0.00   \n",
       "16580        Racing          Codemasters      0.01      0.00      0.00   \n",
       "16581  Role-Playing        Compile Heart      0.00      0.00      0.01   \n",
       "16582        Racing           Activision      0.00      0.00      0.00   \n",
       "\n",
       "       Other_Sales  global_sales  \n",
       "0             8.46         82.74  \n",
       "1             0.77         40.24  \n",
       "2             3.31         35.83  \n",
       "3             2.96         33.00  \n",
       "4             1.00         31.38  \n",
       "...            ...           ...  \n",
       "16578         0.00          0.01  \n",
       "16579         0.00          0.01  \n",
       "16580         0.00          0.01  \n",
       "16581         0.00          0.01  \n",
       "16582         0.00          0.00  \n",
       "\n",
       "[16583 rows x 10 columns]"
      ]
     },
     "execution_count": 13,
     "metadata": {},
     "output_type": "execute_result"
    }
   ],
   "source": [
    "df.reset_index(drop=True, inplace=True)\n",
    "df"
   ]
  },
  {
   "cell_type": "markdown",
   "metadata": {},
   "source": [
    "### Task b: Display a plot of the total number of copies sold of each genre globally"
   ]
  },
  {
   "cell_type": "code",
   "execution_count": 15,
   "metadata": {
    "colab": {
     "base_uri": "https://localhost:8080/",
     "height": 650
    },
    "id": "Y4KmSoYLMLRA",
    "outputId": "6bb42a14-01e0-4352-8659-0d6af275df7d"
   },
   "outputs": [
    {
     "name": "stderr",
     "output_type": "stream",
     "text": [
      "C:\\Users\\Prem Sagar\\AppData\\Local\\Temp\\ipykernel_31456\\730011234.py:3: FutureWarning: \n",
      "\n",
      "Passing `palette` without assigning `hue` is deprecated and will be removed in v0.14.0. Assign the `x` variable to `hue` and set `legend=False` for the same effect.\n",
      "\n",
      "  sns.barplot(data=genre_count, palette=\"rainbow\")\n"
     ]
    },
    {
     "data": {
      "image/png": "[encoded data removed]",
      "text/plain": [
       "<Figure size 640x480 with 1 Axes>"
      ]
     },
     "metadata": {},
     "output_type": "display_data"
    }
   ],
   "source": [
    "genre_count = df.groupby(\"Genre\")[\"global_sales\"].count()\n",
    "sns.barplot(data=genre_count, palette=\"rainbow\")\n",
    "plt.xlabel(\"Genre\")\n",
    "plt.ylabel(\"Number of Copies Sold\")\n",
    "plt.title(\"Number of Copies Sold in each Genre\")\n",
    "plt.xticks(rotation=90)\n",
    "plt.grid()\n",
    "plt.show()"
   ]
  },
  {
   "cell_type": "markdown",
   "metadata": {
    "id": "USw32CKjNvML"
   },
   "source": [
    "### Task c: Filter out only the games containing ‘Grand Theft Auto’ in their name and display the following as a DataFrame :\n",
    "\n",
    "i. their name\n",
    "\n",
    "ii. the platform they were released on\n",
    "\n",
    "iii. the year they were released in\n",
    "\n",
    "iv. the sum of sales in only Europe and Japan\n",
    "\n"
   ]
  },
  {
   "cell_type": "code",
   "execution_count": 16,
   "metadata": {
    "colab": {
     "base_uri": "https://localhost:8080/",
     "height": 316
    },
    "id": "A6JLvdrmM6M_",
    "outputId": "6d84e84b-157d-4177-a020-deb9640326aa"
   },
   "outputs": [
    {
     "name": "stderr",
     "output_type": "stream",
     "text": [
      "C:\\Users\\Prem Sagar\\AppData\\Local\\Temp\\ipykernel_31456\\1800301963.py:2: SettingWithCopyWarning: \n",
      "A value is trying to be set on a copy of a slice from a DataFrame.\n",
      "Try using .loc[row_indexer,col_indexer] = value instead\n",
      "\n",
      "See the caveats in the documentation: https://pandas.pydata.org/pandas-docs/stable/user_guide/indexing.html#returning-a-view-versus-a-copy\n",
      "  gta_df[\"EU_&_JP_Sales\"] = gta_df[\"EU_Sales\"] + gta_df[\"JP_Sales\"]\n",
      "C:\\Users\\Prem Sagar\\AppData\\Local\\Temp\\ipykernel_31456\\1800301963.py:3: SettingWithCopyWarning: \n",
      "A value is trying to be set on a copy of a slice from a DataFrame\n",
      "\n",
      "See the caveats in the documentation: https://pandas.pydata.org/pandas-docs/stable/user_guide/indexing.html#returning-a-view-versus-a-copy\n",
      "  gta_df.drop([\"NA_Sales\", \"EU_Sales\", \"JP_Sales\", \"Other_Sales\", \"global_sales\"], axis=1, inplace=True)\n"
     ]
    },
    {
     "data": {
      "text/html": [
       "<div>\n",
       "<style scoped>\n",
       "    .dataframe tbody tr th:only-of-type {\n",
       "        vertical-align: middle;\n",
       "    }\n",
       "\n",
       "    .dataframe tbody tr th {\n",
       "        vertical-align: top;\n",
       "    }\n",
       "\n",
       "    .dataframe thead th {\n",
       "        text-align: right;\n",
       "    }\n",
       "</style>\n",
       "<table border=\"1\" class=\"dataframe\">\n",
       "  <thead>\n",
       "    <tr style=\"text-align: right;\">\n",
       "      <th></th>\n",
       "      <th>Name</th>\n",
       "      <th>Platform</th>\n",
       "      <th>Year</th>\n",
       "      <th>Genre</th>\n",
       "      <th>Publisher</th>\n",
       "      <th>EU_&amp;_JP_Sales</th>\n",
       "    </tr>\n",
       "  </thead>\n",
       "  <tbody>\n",
       "    <tr>\n",
       "      <th>680</th>\n",
       "      <td>Grand Theft Auto</td>\n",
       "      <td>PS</td>\n",
       "      <td>1997.0</td>\n",
       "      <td>Action</td>\n",
       "      <td>Take-Two Interactive</td>\n",
       "      <td>1.39</td>\n",
       "    </tr>\n",
       "    <tr>\n",
       "      <th>7010</th>\n",
       "      <td>Grand Theft Auto</td>\n",
       "      <td>GBA</td>\n",
       "      <td>2004.0</td>\n",
       "      <td>Action</td>\n",
       "      <td>Take-Two Interactive</td>\n",
       "      <td>0.06</td>\n",
       "    </tr>\n",
       "  </tbody>\n",
       "</table>\n",
       "</div>"
      ],
      "text/plain": [
       "                  Name Platform    Year   Genre             Publisher  \\\n",
       "680   Grand Theft Auto       PS  1997.0  Action  Take-Two Interactive   \n",
       "7010  Grand Theft Auto      GBA  2004.0  Action  Take-Two Interactive   \n",
       "\n",
       "      EU_&_JP_Sales  \n",
       "680            1.39  \n",
       "7010           0.06  "
      ]
     },
     "execution_count": 16,
     "metadata": {},
     "output_type": "execute_result"
    }
   ],
   "source": [
    "gta_df = df[df[\"Name\"]==\"Grand Theft Auto\"]\n",
    "gta_df[\"EU_&_JP_Sales\"] = gta_df[\"EU_Sales\"] + gta_df[\"JP_Sales\"]\n",
    "gta_df.drop([\"NA_Sales\", \"EU_Sales\", \"JP_Sales\", \"Other_Sales\", \"global_sales\"], axis=1, inplace=True)\n",
    "gta_df"
   ]
  },
  {
   "cell_type": "markdown",
   "metadata": {
    "id": "yXD9OdNdPvc-"
   },
   "source": [
    "### Task d: Display a pie chart of the total sales of all Grand Theft Auto games combined in North America, Europe, Japan, and other sales.\n"
   ]
  },
  {
   "cell_type": "code",
   "execution_count": 17,
   "metadata": {
    "colab": {
     "base_uri": "https://localhost:8080/",
     "height": 428
    },
    "id": "6IB22jfxOk5h",
    "outputId": "ca9b3dbd-ddc4-4f52-80b5-ca1f2e7d5ebf"
   },
   "outputs": [
    {
     "data": {
      "image/png": "[encoded data removed]",
      "text/plain": [
       "<Figure size 640x480 with 1 Axes>"
      ]
     },
     "metadata": {},
     "output_type": "display_data"
    }
   ],
   "source": [
    "gta_sales = df[df[\"Name\"]==\"Grand Theft Auto\"]\n",
    "sales = gta_sales[[\"NA_Sales\", \"EU_Sales\", \"JP_Sales\", \"Other_Sales\"]].sum()\n",
    "plt.pie(sales, labels=[\"NA\", \"EU\", \"JP\", \"Other\"], autopct=\"%1.1f%%\")\n",
    "plt.title(\"Grand Theft Auto Sales chart\")\n",
    "plt.show()"
   ]
  },
  {
   "cell_type": "code",
   "execution_count": null,
   "metadata": {
    "id": "swmOhwrf7-u1"
   },
   "outputs": [],
   "source": []
  }
 ],
 "metadata": {
  "colab": {
   "provenance": []
  },
  "kernelspec": {
   "display_name": "Python 3 (ipykernel)",
   "language": "python",
   "name": "python3"
  },
  "language_info": {
   "codemirror_mode": {
    "name": "ipython",
    "version": 3
   },
   "file_extension": ".py",
   "mimetype": "text/x-python",
   "name": "python",
   "nbconvert_exporter": "python",
   "pygments_lexer": "ipython3",
   "version": "3.11.3"
  }
 },
 "nbformat": 4,
 "nbformat_minor": 4
}
